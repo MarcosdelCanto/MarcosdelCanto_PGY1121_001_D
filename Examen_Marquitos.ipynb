{
  "nbformat": 4,
  "nbformat_minor": 0,
  "metadata": {
    "colab": {
      "provenance": []
    },
    "kernelspec": {
      "name": "python3",
      "display_name": "Python 3"
    },
    "language_info": {
      "name": "python"
    }
  },
  "cells": [
    {
      "cell_type": "code",
      "execution_count": null,
      "metadata": {
        "id": "geh9CDjjYWCa"
      },
      "outputs": [],
      "source": [
        "import numpy as np\n",
        "plat=120000\n",
        "gold=80000\n",
        "silv=50000\n",
        "ganancias = np.array([])\n",
        "asientos_disponibles=([i for i in range(1,11)],[i for i in range(11,21)],[i for i in range(21,31)],[i for i in range(31,41)],[i for i in range(41,51)],[i for i in range(51,61)],[i for i in range(61,71)],[i for i in range(71,81)],[i for i in range(81,91)],[i for i in range(91,101)])\n",
        "listado_asistentes = []\n",
        "matriz_asiento = np.array(asientos_disponibles)\n",
        "def comprar_entradas():\n",
        "  while True:\n",
        "    cant = int(input('Ingrese la cantidad de entradas que desea llevar (Máximo 3): '))\n",
        "    if cant > 0 or cant <= 3:\n",
        "      print('         -------ESCENARIO-------\\n')\n",
        "      for i in range(10):\n",
        "        print(matriz_asiento[i])\n",
        "      print('\\nPrecios:\\n   -Platinum: $120.000 (1 - 20)\\n   -Gold:      $80.000 (21 - 50)\\n   -Silver:   $50.000 (51 - 100)\\n')\n",
        "      for i in range(cant):\n",
        "        asiento=int(input('Ingrese el asiento que desea: '))\n",
        "        nom = input('Ingrese su nombre)')\n",
        "        rut = input('Ingrese su rut')\n",
        "      break\n",
        "    else:\n",
        "      print('\\n       Ingrese una cantidad entre 0 y 3\\n')\n",
        "\n",
        "def mostrar_ubicaciones():\n",
        " for i in range(10):\n",
        "  print(asientos_disponibles[i])\n",
        "\n",
        "def ver_listado():\n",
        "  for i in range(len(listado_asistentes)):\n",
        "    print(listado_asistentes[i])\n",
        "\n",
        "def mostrar_ganancias():\n",
        "  for i in range(len(ganancias)):\n",
        "   print(ganancias[i])\n",
        "\n",
        "def salir():\n",
        "  print('¡Hasta Pronto!')\n",
        "  print('Marcos del Canto, 12/07/23')\n",
        "\n",
        "while True:\n",
        "  try:\n",
        "    op = int(input('''    MICHAEL JAM - Creativos.cl\n",
        "\n",
        "    1  -Comprar entradas\n",
        "    2  -Mostrar ubicaciones disponibles\n",
        "    3  -Ver listado asistentes\n",
        "    4  -Mostrar Ganancias\n",
        "    5  -Salir\\n\n",
        "\n",
        "    Opcion seleccionada:'''))\n",
        "    if op == 1:\n",
        "      comprar_entradas()\n",
        "    if op == 2:\n",
        "      mostrar_ubicaciones()\n",
        "    if op == 3:\n",
        "      ver_listado()\n",
        "    if op == 4:\n",
        "      mostrar_ganancias()\n",
        "    if op == 5:\n",
        "      salir()\n",
        "      break\n",
        "  except:\n",
        "    print('Algo salió mal')"
      ]
    }
  ]
}